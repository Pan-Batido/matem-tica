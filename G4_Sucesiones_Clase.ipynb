{
  "cells": [
    {
      "cell_type": "markdown",
      "metadata": {
        "id": "Jsg7AmugfdN3"
      },
      "source": [
        "# Problema 1"
      ]
    },
    {
      "cell_type": "markdown",
      "metadata": {
        "id": "_IzpNklvfgKe"
      },
      "source": [
        "Considere la sucesión $a_{n} = 3n^{2} + 7$. Por medio de un código en *Python* despliega en pantalla:\n",
        "\n",
        "1. Los primeros $5$ términos.\n",
        "2. Los $5$ términos que vienen inmediatamente después del decimoquinto término."
      ]
    },
    {
      "cell_type": "code",
      "execution_count": 1,
      "metadata": {},
      "outputs": [
        {
          "name": "stdout",
          "output_type": "stream",
          "text": [
            "Término 1 = 10\n",
            "Término 2 = 19\n",
            "Término 3 = 34\n",
            "Término 4 = 55\n",
            "Término 5 = 82\n",
            "Término 6 = 115\n",
            "Término 7 = 154\n",
            "Término 8 = 199\n",
            "Término 9 = 250\n",
            "Término 10 = 307\n",
            "Término 11 = 370\n",
            "Término 12 = 439\n",
            "Término 13 = 514\n",
            "Término 14 = 595\n",
            "Término 15 = 682\n",
            "Término 16 = 775\n",
            "Término 17 = 874\n",
            "Término 18 = 979\n",
            "Término 19 = 1090\n",
            "Término 20 = 1207\n",
            "Término 21 = 1330\n",
            "Término 22 = 1459\n",
            "Término 23 = 1594\n",
            "Término 24 = 1735\n",
            "Término 25 = 1882\n"
          ]
        }
      ],
      "source": [
        "a=[]\n",
        "for i in range(25):\n",
        "    n=i+1\n",
        "    a.append(3*n**2+7)\n",
        "    print(\"Término\",n,\"=\",a[i])"
      ]
    },
    {
      "cell_type": "markdown",
      "metadata": {},
      "source": [
        "1. Los primeros $5$ términos."
      ]
    },
    {
      "cell_type": "code",
      "execution_count": 2,
      "metadata": {},
      "outputs": [
        {
          "name": "stdout",
          "output_type": "stream",
          "text": [
            "Término 1 = 10\n",
            "Término 2 = 19\n",
            "Término 3 = 34\n",
            "Término 4 = 55\n",
            "Término 5 = 82\n"
          ]
        }
      ],
      "source": [
        "for i in range (5):\n",
        "    n=i+1\n",
        "    print(\"Término\",n,\"=\",a[i])"
      ]
    },
    {
      "cell_type": "markdown",
      "metadata": {},
      "source": [
        "2. Los $5$ términos que vienen inmediatamente después del decimoquinto término."
      ]
    },
    {
      "cell_type": "code",
      "execution_count": 3,
      "metadata": {},
      "outputs": [
        {
          "name": "stdout",
          "output_type": "stream",
          "text": [
            "Término 16 = 775\n",
            "Término 17 = 874\n",
            "Término 18 = 979\n",
            "Término 19 = 1090\n",
            "Término 20 = 1207\n"
          ]
        }
      ],
      "source": [
        "for i in range (15,20,1):\n",
        "    n=i+1\n",
        "    print(\"Término\",n,\"=\",a[i])"
      ]
    },
    {
      "cell_type": "markdown",
      "metadata": {
        "id": "MpHLoYWfk97E"
      },
      "source": [
        "# Problema 2"
      ]
    },
    {
      "cell_type": "markdown",
      "metadata": {
        "id": "TdrPqS7Mk_l0"
      },
      "source": [
        "Considere la sucesión $g_{n} = 5n^{3}$. Implemente un código en *Python* que muestre en pantalla:\n",
        "\n",
        "1. Los primeros $4$ términos de la sucesión.\n",
        "2. Los $4$ términos que vienen inmediatamente después del octavo término.\n",
        "3. Determinar si el término $40.000$ pertenece a la sucesión. Si es así, indicar en qué posición se encuentra."
      ]
    },
    {
      "cell_type": "code",
      "execution_count": 1,
      "metadata": {},
      "outputs": [
        {
          "name": "stdout",
          "output_type": "stream",
          "text": [
            "Término 1 : 5\n",
            "Término 2 : 40\n",
            "Término 3 : 135\n",
            "Término 4 : 320\n",
            "Término 5 : 625\n",
            "Término 6 : 1080\n",
            "Término 7 : 1715\n",
            "Término 8 : 2560\n",
            "Término 9 : 3645\n",
            "Término 10 : 5000\n",
            "Término 11 : 6655\n",
            "Término 12 : 8640\n",
            "Término 13 : 10985\n",
            "Término 14 : 13720\n",
            "Término 15 : 16875\n",
            "Término 16 : 20480\n",
            "Término 17 : 24565\n",
            "Término 18 : 29160\n",
            "Término 19 : 34295\n",
            "Término 20 : 40000\n",
            "Término 21 : 46305\n",
            "Término 22 : 53240\n",
            "Término 23 : 60835\n",
            "Término 24 : 69120\n",
            "Término 25 : 78125\n",
            "Término 26 : 87880\n",
            "Término 27 : 98415\n",
            "Término 28 : 109760\n",
            "Término 29 : 121945\n",
            "Término 30 : 135000\n"
          ]
        }
      ],
      "source": [
        "g=[]\n",
        "for i in range(30):\n",
        "    n=i+1\n",
        "    g.append(5*n**3)\n",
        "    print(\"Término\",n,\":\",g[i])\n"
      ]
    },
    {
      "cell_type": "markdown",
      "metadata": {},
      "source": [
        "1. Los primeros $4$ términos de la sucesión."
      ]
    },
    {
      "cell_type": "code",
      "execution_count": 2,
      "metadata": {},
      "outputs": [
        {
          "name": "stdout",
          "output_type": "stream",
          "text": [
            "Término 1 : 5\n",
            "Término 2 : 40\n",
            "Término 3 : 135\n",
            "Término 4 : 320\n"
          ]
        }
      ],
      "source": [
        "for i in range(4):\n",
        "    n=i+1\n",
        "    print(\"Término\",n,\":\",g[i])"
      ]
    },
    {
      "cell_type": "markdown",
      "metadata": {},
      "source": [
        "2. Los $4$ términos que vienen inmediatamente después del octavo término.\n"
      ]
    },
    {
      "cell_type": "code",
      "execution_count": 3,
      "metadata": {},
      "outputs": [
        {
          "name": "stdout",
          "output_type": "stream",
          "text": [
            "Término 9 : 3645\n",
            "Término 10 : 5000\n",
            "Término 11 : 6655\n",
            "Término 12 : 8640\n"
          ]
        }
      ],
      "source": [
        "for i in range(8,12):\n",
        "    n=i+1\n",
        "    print(\"Término\",n,\":\",g[i])"
      ]
    },
    {
      "cell_type": "markdown",
      "metadata": {},
      "source": [
        "3. Determinar si el término $40.000$ pertenece a la sucesión. Si es así, indicar en qué posición se encuentra."
      ]
    },
    {
      "cell_type": "code",
      "execution_count": 9,
      "metadata": {},
      "outputs": [
        {
          "name": "stdout",
          "output_type": "stream",
          "text": [
            "El término 40000 está en la posición 20\n"
          ]
        }
      ],
      "source": [
        "final = 40000\n",
        "termino = 0\n",
        "n = 0\n",
        "dif = final-termino\n",
        "while dif > 0:\n",
        "    n += 1\n",
        "    termino = g[n-1]\n",
        "    dif = final-termino\n",
        "\n",
        "if dif==0:\n",
        "    print(\"El término\",final,\"está en la posición\",n)\n",
        "else:\n",
        "    print(\"El término\",final,\"no está en la sucesión\")\n"
      ]
    },
    {
      "cell_type": "markdown",
      "metadata": {},
      "source": [
        "Veamos con 23000:"
      ]
    },
    {
      "cell_type": "code",
      "execution_count": 10,
      "metadata": {},
      "outputs": [
        {
          "name": "stdout",
          "output_type": "stream",
          "text": [
            "El término 23000 no está en la sucesión\n"
          ]
        }
      ],
      "source": [
        "final = 23000\n",
        "termino = 0\n",
        "n = 0\n",
        "dif = final-termino\n",
        "while dif > 0:\n",
        "    n += 1\n",
        "    termino = g[n-1]\n",
        "    dif = final-termino\n",
        "\n",
        "if dif==0:\n",
        "    print(\"El término\",final,\"está en la posición\",n)\n",
        "else:\n",
        "    print(\"El término\",final,\"no está en la sucesión\")"
      ]
    },
    {
      "cell_type": "markdown",
      "metadata": {
        "id": "7GDU-KDLuR7i"
      },
      "source": [
        "# Problema 3"
      ]
    },
    {
      "cell_type": "markdown",
      "metadata": {
        "id": "GG1duXd1uU6Z"
      },
      "source": [
        "La sucesión de Fibonacci es una serie de números en la que cada número, desde el tercero en adelante, es la suma de los dos anteriores. Comienza con el $0$ y $1$, tal como se observa a continuación:\n",
        "\n",
        "$$0, 1, 1, 2, 3, 5, 8, 13, ...$$\n",
        "\n",
        "Formalmente, la sucesión se define de la siguiente manera:\n",
        "\n",
        "\\begin{split}\n",
        "F(0) &= 0\\\\\n",
        "F(1) &= 1\\\\\n",
        "F(n) &= F(n - 1) + F(n - 2), \\ \\text{ para $n \\geq 2$}\n",
        "\\end{split}\n",
        "\n",
        "Esta sucesión se utiliza en una variedad de contextos en informática y algoritmos debido a sus propiedades matemáticas y patrones.\n",
        "\n",
        "1. Implementa un código en *Python* que muestre en pantalla los primeros $20$ términos de la sucesión.\n",
        "2. Calcula, utilizando un ciclo *for*, la suma de los primeros $30$ términos de la sucesión de Fibonacci."
      ]
    },
    {
      "cell_type": "code",
      "execution_count": 4,
      "metadata": {},
      "outputs": [
        {
          "name": "stdout",
          "output_type": "stream",
          "text": [
            "Término 1 : 0\n",
            "Término 2 : 1\n",
            "Término 3 : 1\n",
            "Término 4 : 2\n",
            "Término 5 : 3\n",
            "Término 6 : 5\n",
            "Término 7 : 8\n",
            "Término 8 : 13\n",
            "Término 9 : 21\n",
            "Término 10 : 34\n",
            "Término 11 : 55\n",
            "Término 12 : 89\n",
            "Término 13 : 144\n",
            "Término 14 : 233\n",
            "Término 15 : 377\n",
            "Término 16 : 610\n",
            "Término 17 : 987\n",
            "Término 18 : 1597\n",
            "Término 19 : 2584\n",
            "Término 20 : 4181\n",
            "Término 21 : 6765\n",
            "Término 22 : 10946\n",
            "Término 23 : 17711\n",
            "Término 24 : 28657\n",
            "Término 25 : 46368\n",
            "Término 26 : 75025\n",
            "Término 27 : 121393\n",
            "Término 28 : 196418\n",
            "Término 29 : 317811\n",
            "Término 30 : 514229\n"
          ]
        }
      ],
      "source": [
        "F=[0,1]\n",
        "for i in range(2,30):\n",
        "    n=i+1\n",
        "    F.append(F[i-1]+F[i-2])\n",
        "\n",
        "for i in range(30):\n",
        "    n=i+1\n",
        "    print(\"Término\",n,\":\",F[i])\n"
      ]
    },
    {
      "cell_type": "markdown",
      "metadata": {},
      "source": [
        "1. Implementa un código en *Python* que muestre en pantalla los primeros $20$ términos de la sucesión.\n"
      ]
    },
    {
      "cell_type": "code",
      "execution_count": 5,
      "metadata": {},
      "outputs": [
        {
          "name": "stdout",
          "output_type": "stream",
          "text": [
            "Término 1 : 0\n",
            "Término 2 : 1\n",
            "Término 3 : 1\n",
            "Término 4 : 2\n",
            "Término 5 : 3\n",
            "Término 6 : 5\n",
            "Término 7 : 8\n",
            "Término 8 : 13\n",
            "Término 9 : 21\n",
            "Término 10 : 34\n",
            "Término 11 : 55\n",
            "Término 12 : 89\n",
            "Término 13 : 144\n",
            "Término 14 : 233\n",
            "Término 15 : 377\n",
            "Término 16 : 610\n",
            "Término 17 : 987\n",
            "Término 18 : 1597\n",
            "Término 19 : 2584\n",
            "Término 20 : 4181\n"
          ]
        }
      ],
      "source": [
        "for i in range(20):\n",
        "    n=i+1\n",
        "    print(\"Término\",n,\":\",F[i])"
      ]
    },
    {
      "cell_type": "markdown",
      "metadata": {},
      "source": [
        "2. Calcula, utilizando un ciclo *for*, la suma de los primeros $30$ términos de la sucesión de Fibonacci."
      ]
    },
    {
      "cell_type": "code",
      "execution_count": 6,
      "metadata": {},
      "outputs": [
        {
          "name": "stdout",
          "output_type": "stream",
          "text": [
            "1346268\n"
          ]
        }
      ],
      "source": [
        "print(sum(F))"
      ]
    },
    {
      "cell_type": "code",
      "execution_count": 7,
      "metadata": {},
      "outputs": [
        {
          "name": "stdout",
          "output_type": "stream",
          "text": [
            "1346268\n"
          ]
        }
      ],
      "source": [
        "suma=0\n",
        "for i in range(30):\n",
        "    suma += F[i]\n",
        "\n",
        "print(suma)"
      ]
    },
    {
      "cell_type": "markdown",
      "metadata": {
        "id": "OFL3b7nt8Rq_"
      },
      "source": [
        "# Problema 4"
      ]
    },
    {
      "cell_type": "markdown",
      "metadata": {
        "id": "j5QlZQwJSDsZ"
      },
      "source": [
        "Implementa un código que permita guardar en una lista la sucesión de los primeros $n$ números pares, con $n \\geq 1$. Luego, determina:\n",
        "\n",
        "1. ¿Cuál es el valor del décimo término?\n",
        "2. Calcula, utilizando un ciclo *for*, la suma de los primeros $100$ números pares.\n",
        "3. ¿En qué posición se encuentra el número $58$ dentro de la sucesión?"
      ]
    },
    {
      "cell_type": "code",
      "execution_count": 11,
      "metadata": {},
      "outputs": [
        {
          "name": "stdout",
          "output_type": "stream",
          "text": [
            "Término 1 : 2\n",
            "Término 2 : 4\n",
            "Término 3 : 6\n",
            "Término 4 : 8\n",
            "Término 5 : 10\n",
            "Término 6 : 12\n",
            "Término 7 : 14\n",
            "Término 8 : 16\n",
            "Término 9 : 18\n",
            "Término 10 : 20\n",
            "Término 11 : 22\n",
            "Término 12 : 24\n",
            "Término 13 : 26\n",
            "Término 14 : 28\n",
            "Término 15 : 30\n",
            "Término 16 : 32\n",
            "Término 17 : 34\n",
            "Término 18 : 36\n",
            "Término 19 : 38\n",
            "Término 20 : 40\n",
            "Término 21 : 42\n",
            "Término 22 : 44\n",
            "Término 23 : 46\n",
            "Término 24 : 48\n",
            "Término 25 : 50\n",
            "Término 26 : 52\n",
            "Término 27 : 54\n",
            "Término 28 : 56\n",
            "Término 29 : 58\n",
            "Término 30 : 60\n",
            "Término 31 : 62\n",
            "Término 32 : 64\n",
            "Término 33 : 66\n",
            "Término 34 : 68\n",
            "Término 35 : 70\n",
            "Término 36 : 72\n",
            "Término 37 : 74\n",
            "Término 38 : 76\n",
            "Término 39 : 78\n",
            "Término 40 : 80\n",
            "Término 41 : 82\n",
            "Término 42 : 84\n",
            "Término 43 : 86\n",
            "Término 44 : 88\n",
            "Término 45 : 90\n",
            "Término 46 : 92\n",
            "Término 47 : 94\n",
            "Término 48 : 96\n",
            "Término 49 : 98\n",
            "Término 50 : 100\n",
            "Término 51 : 102\n",
            "Término 52 : 104\n",
            "Término 53 : 106\n",
            "Término 54 : 108\n",
            "Término 55 : 110\n",
            "Término 56 : 112\n",
            "Término 57 : 114\n",
            "Término 58 : 116\n",
            "Término 59 : 118\n",
            "Término 60 : 120\n",
            "Término 61 : 122\n",
            "Término 62 : 124\n",
            "Término 63 : 126\n",
            "Término 64 : 128\n",
            "Término 65 : 130\n",
            "Término 66 : 132\n",
            "Término 67 : 134\n",
            "Término 68 : 136\n",
            "Término 69 : 138\n",
            "Término 70 : 140\n",
            "Término 71 : 142\n",
            "Término 72 : 144\n",
            "Término 73 : 146\n",
            "Término 74 : 148\n",
            "Término 75 : 150\n",
            "Término 76 : 152\n",
            "Término 77 : 154\n",
            "Término 78 : 156\n",
            "Término 79 : 158\n",
            "Término 80 : 160\n",
            "Término 81 : 162\n",
            "Término 82 : 164\n",
            "Término 83 : 166\n",
            "Término 84 : 168\n",
            "Término 85 : 170\n",
            "Término 86 : 172\n",
            "Término 87 : 174\n",
            "Término 88 : 176\n",
            "Término 89 : 178\n",
            "Término 90 : 180\n",
            "Término 91 : 182\n",
            "Término 92 : 184\n",
            "Término 93 : 186\n",
            "Término 94 : 188\n",
            "Término 95 : 190\n",
            "Término 96 : 192\n",
            "Término 97 : 194\n",
            "Término 98 : 196\n",
            "Término 99 : 198\n",
            "Término 100 : 200\n"
          ]
        }
      ],
      "source": [
        "p=[]\n",
        "for i in range(100):\n",
        "    n=i+1\n",
        "    p.append(2*n)\n",
        "    print(\"Término\",n,\":\",p[i])"
      ]
    },
    {
      "cell_type": "markdown",
      "metadata": {},
      "source": [
        "1. ¿Cuál es el valor del décimo término?"
      ]
    },
    {
      "cell_type": "code",
      "execution_count": 12,
      "metadata": {},
      "outputs": [
        {
          "name": "stdout",
          "output_type": "stream",
          "text": [
            "El décimo número par es 20\n"
          ]
        }
      ],
      "source": [
        "print(\"El décimo número par es\",p[9])"
      ]
    },
    {
      "cell_type": "markdown",
      "metadata": {},
      "source": [
        "2. Calcula, utilizando un ciclo *for*, la suma de los primeros $100$ números pares.\n"
      ]
    },
    {
      "cell_type": "code",
      "execution_count": 13,
      "metadata": {},
      "outputs": [
        {
          "name": "stdout",
          "output_type": "stream",
          "text": [
            "10100\n"
          ]
        }
      ],
      "source": [
        "print(sum(p))"
      ]
    },
    {
      "cell_type": "code",
      "execution_count": 14,
      "metadata": {},
      "outputs": [
        {
          "name": "stdout",
          "output_type": "stream",
          "text": [
            "10100\n"
          ]
        }
      ],
      "source": [
        "suma=0\n",
        "for i in range(100):\n",
        "    suma += p[i]\n",
        "\n",
        "print(suma)"
      ]
    },
    {
      "cell_type": "markdown",
      "metadata": {},
      "source": [
        "3. ¿En qué posición se encuentra el número $58$ dentro de la sucesión?"
      ]
    },
    {
      "cell_type": "code",
      "execution_count": 15,
      "metadata": {},
      "outputs": [
        {
          "name": "stdout",
          "output_type": "stream",
          "text": [
            "El término 58 está en la posición 29\n"
          ]
        }
      ],
      "source": [
        "final = 58\n",
        "termino = 0\n",
        "n = 0\n",
        "dif = final-termino\n",
        "while dif > 0:\n",
        "    n += 1\n",
        "    termino = p[n-1]\n",
        "    dif = final-termino\n",
        "\n",
        "if dif==0:\n",
        "    print(\"El término\",final,\"está en la posición\",n)\n",
        "else:\n",
        "    print(\"El término\",final,\"no está en la sucesión\")"
      ]
    },
    {
      "cell_type": "code",
      "execution_count": 16,
      "metadata": {},
      "outputs": [
        {
          "name": "stdout",
          "output_type": "stream",
          "text": [
            "El término 73 no está en la sucesión\n"
          ]
        }
      ],
      "source": [
        "final = 73\n",
        "termino = 0\n",
        "n = 0\n",
        "dif = final-termino\n",
        "while dif > 0:\n",
        "    n += 1\n",
        "    termino = p[n-1]\n",
        "    dif = final-termino\n",
        "\n",
        "if dif==0:\n",
        "    print(\"El término\",final,\"está en la posición\",n)\n",
        "else:\n",
        "    print(\"El término\",final,\"no está en la sucesión\")"
      ]
    },
    {
      "cell_type": "markdown",
      "metadata": {
        "id": "gBcDYpK2Z3GT"
      },
      "source": [
        "# Problema 5"
      ]
    },
    {
      "cell_type": "markdown",
      "metadata": {
        "id": "eS3i68R4Z6YQ"
      },
      "source": [
        "Un nuevo software tiene $500$ usuarios y se espera que el número de usuarios crezca un $15\\%$ respecto al mes anterior. Considere que $b_{n}$ es el número de usuarios transcurridos $n$ meses.\n",
        "\n",
        "1. Calcula cuántos usuarios tendrá el software al cabo de tres meses. ¿Y al cabo de seis meses?\n",
        "2. Mediante un código en *Pyhton* muestra la cantidad de usuarios que tendrá el software cada mes durante el primer año.\n",
        "2. ¿Cuántos usuarios tendrá en total el software luego de un año? Utilice ciclos *for* para calcular."
      ]
    },
    {
      "cell_type": "markdown",
      "metadata": {
        "id": "s2hruXWnJDbS"
      },
      "source": [
        "# Problema 6"
      ]
    },
    {
      "cell_type": "markdown",
      "metadata": {
        "id": "hH_VNmA_Og0U"
      },
      "source": [
        "Un estudiante de ingeniería informática planea ahorrar para un proyecto personal. Para esto, el primer mes deposita en una cuenta $\\$12.000$, el segundo mes deposita $\\$14.000$ y así sucesivamente, de modo que cada mes aumenta el depósito en $\\$2.000$. Considere que $a_{i}$ corresponde al depósito del estudiante en el mes $i$.\n",
        "\n",
        "1. Implementa un código que permita mostrar en pantalla lo que depositó mensualmente durante el primer año.\n",
        "2. ¿Cuánto depositó el estudiante en febrero del segundo año?\n",
        "3. ¿Cuál será el total ahorrado al finalizar dos años?"
      ]
    },
    {
      "cell_type": "code",
      "execution_count": 8,
      "metadata": {},
      "outputs": [
        {
          "name": "stdout",
          "output_type": "stream",
          "text": [
            "El mes 1 ahorró $ 12000\n",
            "El mes 2 ahorró $ 14000\n",
            "El mes 3 ahorró $ 16000\n",
            "El mes 4 ahorró $ 18000\n",
            "El mes 5 ahorró $ 20000\n",
            "El mes 6 ahorró $ 22000\n",
            "El mes 7 ahorró $ 24000\n",
            "El mes 8 ahorró $ 26000\n",
            "El mes 9 ahorró $ 28000\n",
            "El mes 10 ahorró $ 30000\n",
            "El mes 11 ahorró $ 32000\n",
            "El mes 12 ahorró $ 34000\n",
            "El mes 13 ahorró $ 36000\n",
            "El mes 14 ahorró $ 38000\n",
            "El mes 15 ahorró $ 40000\n",
            "El mes 16 ahorró $ 42000\n",
            "El mes 17 ahorró $ 44000\n",
            "El mes 18 ahorró $ 46000\n",
            "El mes 19 ahorró $ 48000\n",
            "El mes 20 ahorró $ 50000\n",
            "El mes 21 ahorró $ 52000\n",
            "El mes 22 ahorró $ 54000\n",
            "El mes 23 ahorró $ 56000\n",
            "El mes 24 ahorró $ 58000\n"
          ]
        }
      ],
      "source": [
        "a1=12000\n",
        "d=2000\n",
        "a=[]\n",
        "for i in range(24):\n",
        "    n=i+1\n",
        "    a.append(a1+(n-1)*d)\n",
        "    print(\"El mes\",n,\"ahorró $\",a[i])\n",
        "    "
      ]
    },
    {
      "cell_type": "markdown",
      "metadata": {},
      "source": [
        "1. Implementa un código que permita mostrar en pantalla lo que depositó mensualmente durante el primer año.\n"
      ]
    },
    {
      "cell_type": "code",
      "execution_count": 9,
      "metadata": {},
      "outputs": [
        {
          "name": "stdout",
          "output_type": "stream",
          "text": [
            "El mes 1 ahorró $ 12000\n",
            "El mes 2 ahorró $ 14000\n",
            "El mes 3 ahorró $ 16000\n",
            "El mes 4 ahorró $ 18000\n",
            "El mes 5 ahorró $ 20000\n",
            "El mes 6 ahorró $ 22000\n",
            "El mes 7 ahorró $ 24000\n",
            "El mes 8 ahorró $ 26000\n",
            "El mes 9 ahorró $ 28000\n",
            "El mes 10 ahorró $ 30000\n",
            "El mes 11 ahorró $ 32000\n",
            "El mes 12 ahorró $ 34000\n"
          ]
        }
      ],
      "source": [
        "for i in range(12):\n",
        "    print(\"El mes\",i+1,\"ahorró $\",a[i])"
      ]
    },
    {
      "cell_type": "markdown",
      "metadata": {},
      "source": [
        "2. ¿Cuánto depositó el estudiante en febrero del segundo año?\n"
      ]
    },
    {
      "cell_type": "code",
      "execution_count": 10,
      "metadata": {},
      "outputs": [
        {
          "name": "stdout",
          "output_type": "stream",
          "text": [
            "El mes 14 ahorró $ 38000\n"
          ]
        }
      ],
      "source": [
        "b=14\n",
        "print(\"El mes\",b,\"ahorró $\",a[b-1])\n"
      ]
    },
    {
      "cell_type": "markdown",
      "metadata": {},
      "source": [
        "3. ¿Cuál será el total ahorrado al finalizar dos años?"
      ]
    },
    {
      "cell_type": "code",
      "execution_count": 11,
      "metadata": {},
      "outputs": [
        {
          "name": "stdout",
          "output_type": "stream",
          "text": [
            "840000\n"
          ]
        }
      ],
      "source": [
        "print(sum(a))"
      ]
    },
    {
      "cell_type": "code",
      "execution_count": 13,
      "metadata": {},
      "outputs": [
        {
          "name": "stdout",
          "output_type": "stream",
          "text": [
            "En 2 años ha ahorrado $ 840000\n"
          ]
        }
      ],
      "source": [
        "suma=0\n",
        "for i in range(24):\n",
        "    suma += a[i]\n",
        "\n",
        "print(\"En 2 años ha ahorrado $\",suma)"
      ]
    },
    {
      "cell_type": "markdown",
      "metadata": {
        "id": "G9sEfl4rB3e8"
      },
      "source": [
        "# Problema 7"
      ]
    },
    {
      "cell_type": "markdown",
      "metadata": {
        "id": "KZUNnG20CT4F"
      },
      "source": [
        "Por lo general, los proyectos son organizados en varias etapas que deben completarse secuencialmente.\n",
        "\n",
        "La fase inicial de un proyecto de software tiene una duración de $3$ meses y cada fase subsecuente reduce su duración en un $10 \\%$ debido a la experiencia ganada. Determine:\n",
        "\n",
        "1. ¿Cuánto dura la quinta fase?\n",
        "2. Calcula la duración total del proyecto después de $10$ fases."
      ]
    },
    {
      "cell_type": "markdown",
      "metadata": {
        "id": "keVOy_xIlU1E"
      },
      "source": [
        "# Problema 8"
      ]
    },
    {
      "cell_type": "markdown",
      "metadata": {
        "id": "QXrNG-zulXil"
      },
      "source": [
        "En una sucesión aritmética, la diferencia entre un término y el anterior es $4$ y el décimo término es $-20$. Determine:\n",
        "\n",
        "1. El primer término de la sucesión.\n",
        "2. La expresión del término de lugar $n$.\n",
        "3. Utilice un código en *Python* para calcular el término que ocupa el lugar $100$.\n",
        "4. Determinar la posición del número $1.680$ en la secuencia. Calcule utilizando un ciclo *while*."
      ]
    },
    {
      "cell_type": "markdown",
      "metadata": {},
      "source": [
        "1. El primer término de la sucesión.\n"
      ]
    },
    {
      "cell_type": "markdown",
      "metadata": {},
      "source": [
        "Tenemos:\n",
        "$$a1=x$$\n",
        "$$d=4$$\n",
        "Calculamos con la ecuación: \n",
        "$$a_{n}=a_{1}+(n-1)d$$\n",
        "$$-20=x+(10-1)4$$\n",
        "$$x=-56$$"
      ]
    },
    {
      "cell_type": "markdown",
      "metadata": {},
      "source": [
        "El primer término es -56."
      ]
    },
    {
      "cell_type": "markdown",
      "metadata": {},
      "source": [
        "2. La expresión del término de lugar $n$.\n"
      ]
    },
    {
      "cell_type": "markdown",
      "metadata": {},
      "source": [
        "$$a_{n}=a_{1}+(n-1)d$$"
      ]
    },
    {
      "cell_type": "markdown",
      "metadata": {},
      "source": [
        "$$a_{n}=-56+(n-1)4$$"
      ]
    },
    {
      "cell_type": "markdown",
      "metadata": {},
      "source": [
        "3. Utilice un código en *Python* para calcular el término que ocupa el lugar $100$.\n"
      ]
    },
    {
      "cell_type": "code",
      "execution_count": 1,
      "metadata": {},
      "outputs": [
        {
          "name": "stdout",
          "output_type": "stream",
          "text": [
            "El término en el lugar 100 es 340\n"
          ]
        }
      ],
      "source": [
        "a=100\n",
        "print(\"El término en el lugar\",a,\"es\",-56+(a-1)*4)"
      ]
    },
    {
      "cell_type": "markdown",
      "metadata": {},
      "source": [
        "Generamos la sucesión \"completa\":"
      ]
    },
    {
      "cell_type": "code",
      "execution_count": 2,
      "metadata": {},
      "outputs": [
        {
          "name": "stdout",
          "output_type": "stream",
          "text": [
            "Término 1 : -56\n",
            "Término 2 : -52\n",
            "Término 3 : -48\n",
            "Término 4 : -44\n",
            "Término 5 : -40\n",
            "Término 6 : -36\n",
            "Término 7 : -32\n",
            "Término 8 : -28\n",
            "Término 9 : -24\n",
            "Término 10 : -20\n",
            "Término 11 : -16\n",
            "Término 12 : -12\n",
            "Término 13 : -8\n",
            "Término 14 : -4\n",
            "Término 15 : 0\n",
            "Término 16 : 4\n",
            "Término 17 : 8\n",
            "Término 18 : 12\n",
            "Término 19 : 16\n",
            "Término 20 : 20\n",
            "Término 21 : 24\n",
            "Término 22 : 28\n",
            "Término 23 : 32\n",
            "Término 24 : 36\n",
            "Término 25 : 40\n",
            "Término 26 : 44\n",
            "Término 27 : 48\n",
            "Término 28 : 52\n",
            "Término 29 : 56\n",
            "Término 30 : 60\n",
            "Término 31 : 64\n",
            "Término 32 : 68\n",
            "Término 33 : 72\n",
            "Término 34 : 76\n",
            "Término 35 : 80\n",
            "Término 36 : 84\n",
            "Término 37 : 88\n",
            "Término 38 : 92\n",
            "Término 39 : 96\n",
            "Término 40 : 100\n",
            "Término 41 : 104\n",
            "Término 42 : 108\n",
            "Término 43 : 112\n",
            "Término 44 : 116\n",
            "Término 45 : 120\n",
            "Término 46 : 124\n",
            "Término 47 : 128\n",
            "Término 48 : 132\n",
            "Término 49 : 136\n",
            "Término 50 : 140\n",
            "Término 51 : 144\n",
            "Término 52 : 148\n",
            "Término 53 : 152\n",
            "Término 54 : 156\n",
            "Término 55 : 160\n",
            "Término 56 : 164\n",
            "Término 57 : 168\n",
            "Término 58 : 172\n",
            "Término 59 : 176\n",
            "Término 60 : 180\n",
            "Término 61 : 184\n",
            "Término 62 : 188\n",
            "Término 63 : 192\n",
            "Término 64 : 196\n",
            "Término 65 : 200\n",
            "Término 66 : 204\n",
            "Término 67 : 208\n",
            "Término 68 : 212\n",
            "Término 69 : 216\n",
            "Término 70 : 220\n",
            "Término 71 : 224\n",
            "Término 72 : 228\n",
            "Término 73 : 232\n",
            "Término 74 : 236\n",
            "Término 75 : 240\n",
            "Término 76 : 244\n",
            "Término 77 : 248\n",
            "Término 78 : 252\n",
            "Término 79 : 256\n",
            "Término 80 : 260\n",
            "Término 81 : 264\n",
            "Término 82 : 268\n",
            "Término 83 : 272\n",
            "Término 84 : 276\n",
            "Término 85 : 280\n",
            "Término 86 : 284\n",
            "Término 87 : 288\n",
            "Término 88 : 292\n",
            "Término 89 : 296\n",
            "Término 90 : 300\n",
            "Término 91 : 304\n",
            "Término 92 : 308\n",
            "Término 93 : 312\n",
            "Término 94 : 316\n",
            "Término 95 : 320\n",
            "Término 96 : 324\n",
            "Término 97 : 328\n",
            "Término 98 : 332\n",
            "Término 99 : 336\n",
            "Término 100 : 340\n",
            "Término 101 : 344\n",
            "Término 102 : 348\n",
            "Término 103 : 352\n",
            "Término 104 : 356\n",
            "Término 105 : 360\n",
            "Término 106 : 364\n",
            "Término 107 : 368\n",
            "Término 108 : 372\n",
            "Término 109 : 376\n",
            "Término 110 : 380\n",
            "Término 111 : 384\n",
            "Término 112 : 388\n",
            "Término 113 : 392\n",
            "Término 114 : 396\n",
            "Término 115 : 400\n",
            "Término 116 : 404\n",
            "Término 117 : 408\n",
            "Término 118 : 412\n",
            "Término 119 : 416\n",
            "Término 120 : 420\n",
            "Término 121 : 424\n",
            "Término 122 : 428\n",
            "Término 123 : 432\n",
            "Término 124 : 436\n",
            "Término 125 : 440\n",
            "Término 126 : 444\n",
            "Término 127 : 448\n",
            "Término 128 : 452\n",
            "Término 129 : 456\n",
            "Término 130 : 460\n",
            "Término 131 : 464\n",
            "Término 132 : 468\n",
            "Término 133 : 472\n",
            "Término 134 : 476\n",
            "Término 135 : 480\n",
            "Término 136 : 484\n",
            "Término 137 : 488\n",
            "Término 138 : 492\n",
            "Término 139 : 496\n",
            "Término 140 : 500\n",
            "Término 141 : 504\n",
            "Término 142 : 508\n",
            "Término 143 : 512\n",
            "Término 144 : 516\n",
            "Término 145 : 520\n",
            "Término 146 : 524\n",
            "Término 147 : 528\n",
            "Término 148 : 532\n",
            "Término 149 : 536\n",
            "Término 150 : 540\n",
            "Término 151 : 544\n",
            "Término 152 : 548\n",
            "Término 153 : 552\n",
            "Término 154 : 556\n",
            "Término 155 : 560\n",
            "Término 156 : 564\n",
            "Término 157 : 568\n",
            "Término 158 : 572\n",
            "Término 159 : 576\n",
            "Término 160 : 580\n",
            "Término 161 : 584\n",
            "Término 162 : 588\n",
            "Término 163 : 592\n",
            "Término 164 : 596\n",
            "Término 165 : 600\n",
            "Término 166 : 604\n",
            "Término 167 : 608\n",
            "Término 168 : 612\n",
            "Término 169 : 616\n",
            "Término 170 : 620\n",
            "Término 171 : 624\n",
            "Término 172 : 628\n",
            "Término 173 : 632\n",
            "Término 174 : 636\n",
            "Término 175 : 640\n",
            "Término 176 : 644\n",
            "Término 177 : 648\n",
            "Término 178 : 652\n",
            "Término 179 : 656\n",
            "Término 180 : 660\n",
            "Término 181 : 664\n",
            "Término 182 : 668\n",
            "Término 183 : 672\n",
            "Término 184 : 676\n",
            "Término 185 : 680\n",
            "Término 186 : 684\n",
            "Término 187 : 688\n",
            "Término 188 : 692\n",
            "Término 189 : 696\n",
            "Término 190 : 700\n",
            "Término 191 : 704\n",
            "Término 192 : 708\n",
            "Término 193 : 712\n",
            "Término 194 : 716\n",
            "Término 195 : 720\n",
            "Término 196 : 724\n",
            "Término 197 : 728\n",
            "Término 198 : 732\n",
            "Término 199 : 736\n",
            "Término 200 : 740\n",
            "Término 201 : 744\n",
            "Término 202 : 748\n",
            "Término 203 : 752\n",
            "Término 204 : 756\n",
            "Término 205 : 760\n",
            "Término 206 : 764\n",
            "Término 207 : 768\n",
            "Término 208 : 772\n",
            "Término 209 : 776\n",
            "Término 210 : 780\n",
            "Término 211 : 784\n",
            "Término 212 : 788\n",
            "Término 213 : 792\n",
            "Término 214 : 796\n",
            "Término 215 : 800\n",
            "Término 216 : 804\n",
            "Término 217 : 808\n",
            "Término 218 : 812\n",
            "Término 219 : 816\n",
            "Término 220 : 820\n",
            "Término 221 : 824\n",
            "Término 222 : 828\n",
            "Término 223 : 832\n",
            "Término 224 : 836\n",
            "Término 225 : 840\n",
            "Término 226 : 844\n",
            "Término 227 : 848\n",
            "Término 228 : 852\n",
            "Término 229 : 856\n",
            "Término 230 : 860\n",
            "Término 231 : 864\n",
            "Término 232 : 868\n",
            "Término 233 : 872\n",
            "Término 234 : 876\n",
            "Término 235 : 880\n",
            "Término 236 : 884\n",
            "Término 237 : 888\n",
            "Término 238 : 892\n",
            "Término 239 : 896\n",
            "Término 240 : 900\n",
            "Término 241 : 904\n",
            "Término 242 : 908\n",
            "Término 243 : 912\n",
            "Término 244 : 916\n",
            "Término 245 : 920\n",
            "Término 246 : 924\n",
            "Término 247 : 928\n",
            "Término 248 : 932\n",
            "Término 249 : 936\n",
            "Término 250 : 940\n",
            "Término 251 : 944\n",
            "Término 252 : 948\n",
            "Término 253 : 952\n",
            "Término 254 : 956\n",
            "Término 255 : 960\n",
            "Término 256 : 964\n",
            "Término 257 : 968\n",
            "Término 258 : 972\n",
            "Término 259 : 976\n",
            "Término 260 : 980\n",
            "Término 261 : 984\n",
            "Término 262 : 988\n",
            "Término 263 : 992\n",
            "Término 264 : 996\n",
            "Término 265 : 1000\n",
            "Término 266 : 1004\n",
            "Término 267 : 1008\n",
            "Término 268 : 1012\n",
            "Término 269 : 1016\n",
            "Término 270 : 1020\n",
            "Término 271 : 1024\n",
            "Término 272 : 1028\n",
            "Término 273 : 1032\n",
            "Término 274 : 1036\n",
            "Término 275 : 1040\n",
            "Término 276 : 1044\n",
            "Término 277 : 1048\n",
            "Término 278 : 1052\n",
            "Término 279 : 1056\n",
            "Término 280 : 1060\n",
            "Término 281 : 1064\n",
            "Término 282 : 1068\n",
            "Término 283 : 1072\n",
            "Término 284 : 1076\n",
            "Término 285 : 1080\n",
            "Término 286 : 1084\n",
            "Término 287 : 1088\n",
            "Término 288 : 1092\n",
            "Término 289 : 1096\n",
            "Término 290 : 1100\n",
            "Término 291 : 1104\n",
            "Término 292 : 1108\n",
            "Término 293 : 1112\n",
            "Término 294 : 1116\n",
            "Término 295 : 1120\n",
            "Término 296 : 1124\n",
            "Término 297 : 1128\n",
            "Término 298 : 1132\n",
            "Término 299 : 1136\n",
            "Término 300 : 1140\n",
            "Término 301 : 1144\n",
            "Término 302 : 1148\n",
            "Término 303 : 1152\n",
            "Término 304 : 1156\n",
            "Término 305 : 1160\n",
            "Término 306 : 1164\n",
            "Término 307 : 1168\n",
            "Término 308 : 1172\n",
            "Término 309 : 1176\n",
            "Término 310 : 1180\n",
            "Término 311 : 1184\n",
            "Término 312 : 1188\n",
            "Término 313 : 1192\n",
            "Término 314 : 1196\n",
            "Término 315 : 1200\n",
            "Término 316 : 1204\n",
            "Término 317 : 1208\n",
            "Término 318 : 1212\n",
            "Término 319 : 1216\n",
            "Término 320 : 1220\n",
            "Término 321 : 1224\n",
            "Término 322 : 1228\n",
            "Término 323 : 1232\n",
            "Término 324 : 1236\n",
            "Término 325 : 1240\n",
            "Término 326 : 1244\n",
            "Término 327 : 1248\n",
            "Término 328 : 1252\n",
            "Término 329 : 1256\n",
            "Término 330 : 1260\n",
            "Término 331 : 1264\n",
            "Término 332 : 1268\n",
            "Término 333 : 1272\n",
            "Término 334 : 1276\n",
            "Término 335 : 1280\n",
            "Término 336 : 1284\n",
            "Término 337 : 1288\n",
            "Término 338 : 1292\n",
            "Término 339 : 1296\n",
            "Término 340 : 1300\n",
            "Término 341 : 1304\n",
            "Término 342 : 1308\n",
            "Término 343 : 1312\n",
            "Término 344 : 1316\n",
            "Término 345 : 1320\n",
            "Término 346 : 1324\n",
            "Término 347 : 1328\n",
            "Término 348 : 1332\n",
            "Término 349 : 1336\n",
            "Término 350 : 1340\n",
            "Término 351 : 1344\n",
            "Término 352 : 1348\n",
            "Término 353 : 1352\n",
            "Término 354 : 1356\n",
            "Término 355 : 1360\n",
            "Término 356 : 1364\n",
            "Término 357 : 1368\n",
            "Término 358 : 1372\n",
            "Término 359 : 1376\n",
            "Término 360 : 1380\n",
            "Término 361 : 1384\n",
            "Término 362 : 1388\n",
            "Término 363 : 1392\n",
            "Término 364 : 1396\n",
            "Término 365 : 1400\n",
            "Término 366 : 1404\n",
            "Término 367 : 1408\n",
            "Término 368 : 1412\n",
            "Término 369 : 1416\n",
            "Término 370 : 1420\n",
            "Término 371 : 1424\n",
            "Término 372 : 1428\n",
            "Término 373 : 1432\n",
            "Término 374 : 1436\n",
            "Término 375 : 1440\n",
            "Término 376 : 1444\n",
            "Término 377 : 1448\n",
            "Término 378 : 1452\n",
            "Término 379 : 1456\n",
            "Término 380 : 1460\n",
            "Término 381 : 1464\n",
            "Término 382 : 1468\n",
            "Término 383 : 1472\n",
            "Término 384 : 1476\n",
            "Término 385 : 1480\n",
            "Término 386 : 1484\n",
            "Término 387 : 1488\n",
            "Término 388 : 1492\n",
            "Término 389 : 1496\n",
            "Término 390 : 1500\n",
            "Término 391 : 1504\n",
            "Término 392 : 1508\n",
            "Término 393 : 1512\n",
            "Término 394 : 1516\n",
            "Término 395 : 1520\n",
            "Término 396 : 1524\n",
            "Término 397 : 1528\n",
            "Término 398 : 1532\n",
            "Término 399 : 1536\n",
            "Término 400 : 1540\n",
            "Término 401 : 1544\n",
            "Término 402 : 1548\n",
            "Término 403 : 1552\n",
            "Término 404 : 1556\n",
            "Término 405 : 1560\n",
            "Término 406 : 1564\n",
            "Término 407 : 1568\n",
            "Término 408 : 1572\n",
            "Término 409 : 1576\n",
            "Término 410 : 1580\n",
            "Término 411 : 1584\n",
            "Término 412 : 1588\n",
            "Término 413 : 1592\n",
            "Término 414 : 1596\n",
            "Término 415 : 1600\n",
            "Término 416 : 1604\n",
            "Término 417 : 1608\n",
            "Término 418 : 1612\n",
            "Término 419 : 1616\n",
            "Término 420 : 1620\n",
            "Término 421 : 1624\n",
            "Término 422 : 1628\n",
            "Término 423 : 1632\n",
            "Término 424 : 1636\n",
            "Término 425 : 1640\n",
            "Término 426 : 1644\n",
            "Término 427 : 1648\n",
            "Término 428 : 1652\n",
            "Término 429 : 1656\n",
            "Término 430 : 1660\n",
            "Término 431 : 1664\n",
            "Término 432 : 1668\n",
            "Término 433 : 1672\n",
            "Término 434 : 1676\n",
            "Término 435 : 1680\n",
            "Término 436 : 1684\n",
            "Término 437 : 1688\n",
            "Término 438 : 1692\n",
            "Término 439 : 1696\n",
            "Término 440 : 1700\n",
            "Término 441 : 1704\n",
            "Término 442 : 1708\n",
            "Término 443 : 1712\n",
            "Término 444 : 1716\n",
            "Término 445 : 1720\n",
            "Término 446 : 1724\n",
            "Término 447 : 1728\n",
            "Término 448 : 1732\n",
            "Término 449 : 1736\n",
            "Término 450 : 1740\n",
            "Término 451 : 1744\n",
            "Término 452 : 1748\n",
            "Término 453 : 1752\n",
            "Término 454 : 1756\n",
            "Término 455 : 1760\n",
            "Término 456 : 1764\n",
            "Término 457 : 1768\n",
            "Término 458 : 1772\n",
            "Término 459 : 1776\n",
            "Término 460 : 1780\n",
            "Término 461 : 1784\n",
            "Término 462 : 1788\n",
            "Término 463 : 1792\n",
            "Término 464 : 1796\n",
            "Término 465 : 1800\n",
            "Término 466 : 1804\n",
            "Término 467 : 1808\n",
            "Término 468 : 1812\n",
            "Término 469 : 1816\n",
            "Término 470 : 1820\n",
            "Término 471 : 1824\n",
            "Término 472 : 1828\n",
            "Término 473 : 1832\n",
            "Término 474 : 1836\n",
            "Término 475 : 1840\n",
            "Término 476 : 1844\n",
            "Término 477 : 1848\n",
            "Término 478 : 1852\n",
            "Término 479 : 1856\n",
            "Término 480 : 1860\n",
            "Término 481 : 1864\n",
            "Término 482 : 1868\n",
            "Término 483 : 1872\n",
            "Término 484 : 1876\n",
            "Término 485 : 1880\n",
            "Término 486 : 1884\n",
            "Término 487 : 1888\n",
            "Término 488 : 1892\n",
            "Término 489 : 1896\n",
            "Término 490 : 1900\n",
            "Término 491 : 1904\n",
            "Término 492 : 1908\n",
            "Término 493 : 1912\n",
            "Término 494 : 1916\n",
            "Término 495 : 1920\n",
            "Término 496 : 1924\n",
            "Término 497 : 1928\n",
            "Término 498 : 1932\n",
            "Término 499 : 1936\n",
            "Término 500 : 1940\n"
          ]
        }
      ],
      "source": [
        "a1=-56\n",
        "d=4\n",
        "a=[]\n",
        "for i in range(500):\n",
        "    n=i+1\n",
        "    a.append(a1+(n-1)*d)\n",
        "    print(\"Término\",n,\":\",a[i])"
      ]
    },
    {
      "cell_type": "code",
      "execution_count": 3,
      "metadata": {},
      "outputs": [
        {
          "name": "stdout",
          "output_type": "stream",
          "text": [
            "El término en el lugar 100 es 340\n"
          ]
        }
      ],
      "source": [
        "print(\"El término en el lugar 100 es\",a[99])"
      ]
    },
    {
      "cell_type": "markdown",
      "metadata": {},
      "source": [
        "4. Determinar la posición del número $1.680$ en la secuencia. Calcule utilizando un ciclo *while*."
      ]
    },
    {
      "cell_type": "code",
      "execution_count": 4,
      "metadata": {},
      "outputs": [
        {
          "name": "stdout",
          "output_type": "stream",
          "text": [
            "El término 1680 está en la posición 435\n"
          ]
        }
      ],
      "source": [
        "final = 1680\n",
        "termino = 0\n",
        "n = 0\n",
        "dif = final-termino\n",
        "while dif > 0:\n",
        "    n += 1\n",
        "    termino = a[n-1]\n",
        "    dif = final-termino\n",
        "\n",
        "if dif==0:\n",
        "    print(\"El término\",final,\"está en la posición\",n)\n",
        "else:\n",
        "    print(\"El término\",final,\"no está en la sucesión\")"
      ]
    },
    {
      "cell_type": "markdown",
      "metadata": {
        "id": "gFYqGSbdqoqT"
      },
      "source": [
        "# Problema 9"
      ]
    },
    {
      "cell_type": "markdown",
      "metadata": {
        "id": "UtblbNCYqxOM"
      },
      "source": [
        "El tercer término de una sucesión geométrica es $5$ y el sexto término es $40$. Determine:\n",
        "\n",
        "1. La razón geométrica de la sucesión.\n",
        "2. El primer término de la sucesión.\n",
        "3. La expresión del término de lugar $n$.\n",
        "4. Utilice un código en *Python* para calcular el término que ocupa el lugar $8$.\n",
        "4. ¿Qué lugar ocupa en esta sucesión el término $20.480$? Calcule utilizando un ciclo *while*."
      ]
    },
    {
      "cell_type": "markdown",
      "metadata": {
        "id": "Ju4J8uWfxQKk"
      },
      "source": [
        "# Problema 10"
      ]
    },
    {
      "cell_type": "markdown",
      "metadata": {
        "id": "F6FPVCXQxTMj"
      },
      "source": [
        "Una empresa de tecnología está optimizando sus servidores. Para ello mide las transacciones por segundo (TPS) de sus servidores en cada mes. Se ha obtenido que en el segundo mes, el rendimiento del servidor fue $1,2$ miles de TPS y en el quinto mes, el rendimiento fue $2,7$ miles de TPS. Si el número de TPS que hay mes a mes sigue una sucesión geométrica, determina utilizando un código en *Python*:\n",
        "\n",
        "1. ¿Cuál es el rendimiento el noveno mes?\n",
        "2. ¿En qué mes el rendimiento es de $23,4$ miles de TPS?\n",
        "\n",
        "Utilice dos decimales para el cálculo."
      ]
    },
    {
      "cell_type": "markdown",
      "metadata": {
        "id": "jxQyaJXUCW7m"
      },
      "source": [
        "# Problema 11"
      ]
    },
    {
      "cell_type": "markdown",
      "metadata": {
        "id": "8LdxsBUwDfbf"
      },
      "source": [
        "Una aplicación de redes sociales se estrenó el $1$ de enero con una cierta cantidad de usuarios. A partir de ahí, el número de usuarios nuevos de cada día fue siempre el mismo. El $3$ de enero tenía $500$ usuarios en total y el $10$ de enero tenía $1.501$ usuarios totales.Determine:\n",
        "\n",
        "1. ¿Con cuántos usuarios comenzó a funcionar la aplicación?\n",
        "2. ¿Cuántos usuarios tendrá la aplicación el $31$ de enero?\n",
        "3. Si la aplicación tiene $5.505$ usuarios, ¿cuántos meses lleva funcionando?\n",
        "\n"
      ]
    },
    {
      "cell_type": "markdown",
      "metadata": {
        "id": "zBN3BhYVLLSe"
      },
      "source": [
        "# Problema 12"
      ]
    },
    {
      "cell_type": "markdown",
      "metadata": {
        "id": "kszkhh_GLQN1"
      },
      "source": [
        "Una empresa de publicidad ofrece para un puesto de trabajo un salario inicial y un aumento mensual en una razón constante. Javier se presenta a la entrevista, y el encargado del departamento de recursos humanos le explica que en el segundo mes de trabajo su sueldo será de $\\$402.000$, y que en el tercer mes de trabajo será de $\\$404.010$. Determine:\n",
        "\n",
        "1. El salario aproximado que Javier recibiría en el décimo mes de trabajo en la empresa.\n",
        "2. ¿Cuál sería el ingreso total recibido por los sueldos de Javier durante el tercer año de trabajo?"
      ]
    },
    {
      "cell_type": "markdown",
      "metadata": {
        "id": "-lx5k4b9Y8sD"
      },
      "source": [
        "# Problema 13"
      ]
    },
    {
      "cell_type": "markdown",
      "metadata": {
        "id": "OVuWQuXsY_pp"
      },
      "source": [
        "Una empresa de ciberseguridad capacita trabajadores cada trimestre. En el primer trimestre capacitaron a $30$ trabajadores, en el segundo trimestre a $60$ trabajadores, y en el tercer trimestre a $120$ trabajadores. Si en los siguientes trimestres la empresa mantiene el mismo patrón de crecimiento, determine utilizando *Python*:\n",
        "\n",
        "1. ¿A cuántos trabajadores capacitarán en el octavo trimestre?\n",
        "2. Si la empresa lleva en el mercado $3$ años, ¿a cuántos trabajadores han capacitado en total?"
      ]
    },
    {
      "cell_type": "markdown",
      "metadata": {
        "id": "IM7Xf51G6AXs"
      },
      "source": [
        "# Problema 14"
      ]
    },
    {
      "cell_type": "markdown",
      "metadata": {
        "id": "Ni_4WMQl6OeV"
      },
      "source": [
        "Al llenar un tambor con agua, se registra que durante el minuto $4$ el tambor recibe $128$ litros, y durante el minuto $9$ recibe $88$ litros. Sabiendo que en cada minuto recibe una cantidad $d$ de litros de agua menos que en el minuto anterior, determine:\n",
        "\n",
        "1. ¿En qué instante el tambor deja de recibir agua?\n",
        "2. ¿Cuántos litros recibe en total el tambor?\n",
        "\n",
        "Realice los cálculos anteriores utilizando *Python*."
      ]
    }
  ],
  "metadata": {
    "colab": {
      "provenance": []
    },
    "kernelspec": {
      "display_name": "Python 3",
      "name": "python3"
    },
    "language_info": {
      "codemirror_mode": {
        "name": "ipython",
        "version": 3
      },
      "file_extension": ".py",
      "mimetype": "text/x-python",
      "name": "python",
      "nbconvert_exporter": "python",
      "pygments_lexer": "ipython3",
      "version": "3.13.5"
    }
  },
  "nbformat": 4,
  "nbformat_minor": 0
}
